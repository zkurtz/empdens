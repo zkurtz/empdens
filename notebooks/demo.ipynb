{
 "cells": [
  {
   "cell_type": "markdown",
   "metadata": {},
   "source": [
    "# Basic usage and testing\n",
    "\n",
    "We'll demonstrate the application of CADE on simulated data and compare its performance with several other density estimators.\n",
    "\n",
    "## Simulate data\n",
    "\n",
    "Define a problem by simulating some data from a bivariate distribution:"
   ]
  },
  {
   "cell_type": "code",
   "execution_count": 1,
   "metadata": {},
   "outputs": [
    {
     "data": {
      "text/html": [
       "<div>\n",
       "<style scoped>\n",
       "    .dataframe tbody tr th:only-of-type {\n",
       "        vertical-align: middle;\n",
       "    }\n",
       "\n",
       "    .dataframe tbody tr th {\n",
       "        vertical-align: top;\n",
       "    }\n",
       "\n",
       "    .dataframe thead th {\n",
       "        text-align: right;\n",
       "    }\n",
       "</style>\n",
       "<table border=\"1\" class=\"dataframe\">\n",
       "  <thead>\n",
       "    <tr style=\"text-align: right;\">\n",
       "      <th></th>\n",
       "      <th>gaussian</th>\n",
       "      <th>triangular</th>\n",
       "    </tr>\n",
       "  </thead>\n",
       "  <tbody>\n",
       "    <tr>\n",
       "      <th>0</th>\n",
       "      <td>0.148588</td>\n",
       "      <td>1.085822</td>\n",
       "    </tr>\n",
       "    <tr>\n",
       "      <th>1</th>\n",
       "      <td>0.587739</td>\n",
       "      <td>0.015134</td>\n",
       "    </tr>\n",
       "    <tr>\n",
       "      <th>2</th>\n",
       "      <td>0.283965</td>\n",
       "      <td>0.828005</td>\n",
       "    </tr>\n",
       "    <tr>\n",
       "      <th>3</th>\n",
       "      <td>0.138861</td>\n",
       "      <td>1.381029</td>\n",
       "    </tr>\n",
       "    <tr>\n",
       "      <th>4</th>\n",
       "      <td>-0.159206</td>\n",
       "      <td>0.066705</td>\n",
       "    </tr>\n",
       "  </tbody>\n",
       "</table>\n",
       "</div>"
      ],
      "text/plain": [
       "   gaussian  triangular\n",
       "0  0.148588    1.085822\n",
       "1  0.587739    0.015134\n",
       "2  0.283965    0.828005\n",
       "3  0.138861    1.381029\n",
       "4 -0.159206    0.066705"
      ]
     },
     "execution_count": 1,
     "metadata": {},
     "output_type": "execute_result"
    }
   ],
   "source": [
    "import numpy as np\n",
    "import pandas as pd\n",
    "\n",
    "from empdens import cade, classifiers, evaluation, models, simulators\n",
    "from empdens.wrappers.fast_kde import FastKDE\n",
    "from empdens.wrappers.sklearn_isolation_forest import SklearnIsolationForest\n",
    "from empdens.wrappers.sklearn_kde import SklearnKDE\n",
    "\n",
    "np.random.seed(0)\n",
    "sz = simulators.Zena()\n",
    "df = sz.rvs(1000)\n",
    "df.head()\n",
    "# Some example values:"
   ]
  },
  {
   "cell_type": "markdown",
   "metadata": {},
   "source": [
    "## Train CADE\n",
    "\n",
    "Cade works by first fitting an initial naive joint density model and subsequently\n",
    "improving the initial density estimates with a classifier that\n",
    "tries to distinguish between the real data versus fake data sampled\n",
    "from the initial density model:"
   ]
  },
  {
   "cell_type": "code",
   "execution_count": 2,
   "metadata": {},
   "outputs": [
    {
     "name": "stdout",
     "output_type": "stream",
     "text": [
      "CADE real-vs-fake classifier AUROC = 0.9112\n"
     ]
    }
   ],
   "source": [
    "# All arguments can be ommitted; displaying defaults here to be explicit:\n",
    "cc = cade.Cade(initial_density=models.JointDensity(), classifier=classifiers.lightgbm.Lgbm())\n",
    "cc.train(df, diagnostics=True)\n",
    "print(\"CADE real-vs-fake classifier AUROC = \" + str(cc.diagnostics[\"auc\"])[:6])"
   ]
  },
  {
   "cell_type": "markdown",
   "metadata": {},
   "source": [
    "The AUROC score (i.e. AUC or area under the receiver operating characteristic) has both theoretical and practical interpretations. Scoring much greater than 0.5 indicates that there are substantial differences between the simulated and real data, reflecting how much the classifier improves on the initial density estimate. However, an extremely high AUROC is a warning flag; if the classifier achieves near-perfect separation between the real and fake data, there is a risk that it achieves this separation \"too easily\", without taking all structure of the data into consideration. Todo: How high is too high?\n",
    "\n",
    "## Train other density estimators\n",
    "\n",
    "Let's also train fastKDE (pip install fastkde), sklearn's KernelDensity, and sklearn's Isolation Forest (technically not a density):"
   ]
  },
  {
   "cell_type": "code",
   "execution_count": 3,
   "metadata": {},
   "outputs": [],
   "source": [
    "estimators = [\n",
    "    FastKDE(),\n",
    "    SklearnKDE(),\n",
    "    SklearnIsolationForest(),\n",
    "]\n",
    "\n",
    "for e in estimators:\n",
    "    e.train(df)"
   ]
  },
  {
   "cell_type": "markdown",
   "metadata": {},
   "source": [
    "## Performance evaluation\n",
    "\n",
    "Let's compare the performance of the estimators on new data from the same simulation:"
   ]
  },
  {
   "cell_type": "code",
   "execution_count": 4,
   "metadata": {},
   "outputs": [
    {
     "name": "stdout",
     "output_type": "stream",
     "text": [
      "                          Cade  FastKDE  SklearnKDE  SklearnIsolationForest\n",
      "mean_absolute_error     0.6651      NaN      0.0652                  0.3782\n",
      "mean_squared_error      0.9129      NaN      0.0071                  0.1452\n",
      "rank-order correlation  0.8623   0.1067      0.7847                  0.7910\n",
      "pearson correlation     0.8187  -0.0152      0.7839                  0.7471\n",
      "mean density            0.7884      NaN      0.0648                  0.5061\n"
     ]
    }
   ],
   "source": [
    "new_df = sz.rvs(1000)\n",
    "estimators_dict = {type(e).__name__: e.density(new_df) for e in [cc] + estimators}\n",
    "ev = evaluation.Evaluation(estimators=estimators_dict, truth=sz.density(new_df))\n",
    "pd.set_option(\"display.precision\", 4)\n",
    "print(ev.evaluate())"
   ]
  },
  {
   "cell_type": "markdown",
   "metadata": {},
   "source": [
    "TODO: fix our FastKDE wrapper -- almost certainly this is not a fair representation!"
   ]
  }
 ],
 "metadata": {
  "kernelspec": {
   "display_name": ".venv",
   "language": "python",
   "name": "python3"
  },
  "language_info": {
   "codemirror_mode": {
    "name": "ipython",
    "version": 3
   },
   "file_extension": ".py",
   "mimetype": "text/x-python",
   "name": "python",
   "nbconvert_exporter": "python",
   "pygments_lexer": "ipython3",
   "version": "3.13.0"
  }
 },
 "nbformat": 4,
 "nbformat_minor": 2
}
