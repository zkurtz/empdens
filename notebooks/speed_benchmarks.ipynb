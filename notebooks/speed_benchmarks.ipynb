{
 "cells": [
  {
   "cell_type": "markdown",
   "metadata": {},
   "source": [
    "# Speed benchmarks\n",
    "\n",
    "\n",
    "\n",
    "## FastKDE is fast on 1D data\n",
    "\n",
    "*BLUF: FastKDE lives up to its name on 1-D data, while CADE is slow*\n",
    "\n",
    "We'll test some density estimators on the Bart Simpson density:"
   ]
  },
  {
   "cell_type": "code",
   "execution_count": 17,
   "metadata": {},
   "outputs": [
    {
     "data": {
      "image/png": "[encoded data removed]",
      "text/plain": [
       "<Figure size 432x288 with 1 Axes>"
      ]
     },
     "metadata": {
      "needs_background": "light"
     },
     "output_type": "display_data"
    }
   ],
   "source": [
    "import matplotlib.pyplot as plt\n",
    "\n",
    "%matplotlib inline\n",
    "import numpy as np\n",
    "import pandas as pd\n",
    "import empdens\n",
    "from time import time\n",
    "\n",
    "bart_simpson = empdens.simulators.BartSimpson()\n",
    "bart_simpson.plot()"
   ]
  },
  {
   "cell_type": "markdown",
   "metadata": {},
   "source": [
    "Generate several samples of increasing size:"
   ]
  },
  {
   "cell_type": "code",
   "execution_count": 2,
   "metadata": {},
   "outputs": [],
   "source": [
    "samples = [bart_simpson.rvs(n) for n in [100, 1000, 10000, 100000, 1000000]]"
   ]
  },
  {
   "cell_type": "markdown",
   "metadata": {},
   "source": [
    "Execution time for training:"
   ]
  },
  {
   "cell_type": "code",
   "execution_count": 16,
   "metadata": {},
   "outputs": [
    {
     "data": {
      "text/html": [
       "<div>\n",
       "<style scoped>\n",
       "    .dataframe tbody tr th:only-of-type {\n",
       "        vertical-align: middle;\n",
       "    }\n",
       "\n",
       "    .dataframe tbody tr th {\n",
       "        vertical-align: top;\n",
       "    }\n",
       "\n",
       "    .dataframe thead th {\n",
       "        text-align: right;\n",
       "    }\n",
       "</style>\n",
       "<table border=\"1\" class=\"dataframe\">\n",
       "  <thead>\n",
       "    <tr style=\"text-align: right;\">\n",
       "      <th></th>\n",
       "      <th>CADE</th>\n",
       "      <th>FastKDE</th>\n",
       "      <th>IsolationForest</th>\n",
       "      <th>SklearnKDE</th>\n",
       "      <th>sample_size</th>\n",
       "    </tr>\n",
       "  </thead>\n",
       "  <tbody>\n",
       "    <tr>\n",
       "      <th>0</th>\n",
       "      <td>0.043433</td>\n",
       "      <td>0.002997</td>\n",
       "      <td>0.049505</td>\n",
       "      <td>0.000223</td>\n",
       "      <td>100</td>\n",
       "    </tr>\n",
       "    <tr>\n",
       "      <th>1</th>\n",
       "      <td>0.171731</td>\n",
       "      <td>0.003066</td>\n",
       "      <td>0.059153</td>\n",
       "      <td>0.000290</td>\n",
       "      <td>1000</td>\n",
       "    </tr>\n",
       "    <tr>\n",
       "      <th>2</th>\n",
       "      <td>2.132012</td>\n",
       "      <td>0.008606</td>\n",
       "      <td>0.080857</td>\n",
       "      <td>0.002365</td>\n",
       "      <td>10000</td>\n",
       "    </tr>\n",
       "    <tr>\n",
       "      <th>3</th>\n",
       "      <td>2.346975</td>\n",
       "      <td>0.062498</td>\n",
       "      <td>0.122864</td>\n",
       "      <td>0.102925</td>\n",
       "      <td>100000</td>\n",
       "    </tr>\n",
       "    <tr>\n",
       "      <th>4</th>\n",
       "      <td>6.000147</td>\n",
       "      <td>0.581835</td>\n",
       "      <td>0.788735</td>\n",
       "      <td>3.729898</td>\n",
       "      <td>1000000</td>\n",
       "    </tr>\n",
       "  </tbody>\n",
       "</table>\n",
       "</div>"
      ],
      "text/plain": [
       "       CADE   FastKDE  IsolationForest  SklearnKDE  sample_size\n",
       "0  0.043433  0.002997         0.049505    0.000223          100\n",
       "1  0.171731  0.003066         0.059153    0.000290         1000\n",
       "2  2.132012  0.008606         0.080857    0.002365        10000\n",
       "3  2.346975  0.062498         0.122864    0.102925       100000\n",
       "4  6.000147  0.581835         0.788735    3.729898      1000000"
      ]
     },
     "execution_count": 16,
     "metadata": {},
     "output_type": "execute_result"
    }
   ],
   "source": [
    "def time_train(df):\n",
    "    estimators = {\n",
    "        \"CADE\": empdens.cade.Cade(sim_size=df.shape[0]),\n",
    "        \"FastKDE\": empdens.wrappers.FastKDE(),\n",
    "        \"SklearnKDE\": empdens.wrappers.SklearnKDE(),\n",
    "        \"IsolationForest\": empdens.wrappers.SklearnIsolationForest(),\n",
    "    }\n",
    "    times = {}\n",
    "    for kind, estimator in estimators.items():\n",
    "        t0 = time()\n",
    "        estimator.train(df)\n",
    "        times[kind] = time() - t0\n",
    "    return times\n",
    "\n",
    "\n",
    "results = [time_train(s) for s in samples]\n",
    "rdf = pd.DataFrame(results)\n",
    "rdf[\"sample_size\"] = [s.shape[0] for s in samples]\n",
    "rdf"
   ]
  },
  {
   "cell_type": "markdown",
   "metadata": {},
   "source": [
    "## Kernel density methods fail at  > 2D\n",
    "\n",
    "TODO: test this claim"
   ]
  },
  {
   "cell_type": "markdown",
   "metadata": {},
   "source": [
    "## CADE is fast on high-dimensional data\n",
    "\n",
    "TODO: test this claim"
   ]
  }
 ],
 "metadata": {
  "kernelspec": {
   "display_name": "Python 3",
   "language": "python",
   "name": "python3"
  },
  "language_info": {
   "codemirror_mode": {
    "name": "ipython",
    "version": 3
   },
   "file_extension": ".py",
   "mimetype": "text/x-python",
   "name": "python",
   "nbconvert_exporter": "python",
   "pygments_lexer": "ipython3",
   "version": "3.7.3"
  }
 },
 "nbformat": 4,
 "nbformat_minor": 2
}
