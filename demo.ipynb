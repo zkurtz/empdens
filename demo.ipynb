{
 "cells": [
  {
   "cell_type": "markdown",
   "metadata": {},
   "source": [
    "# Several density estimation methods\n",
    "\n",
    "The demo compares the performance of CADE and fastKDE on a simulated data set.\n",
    "\n",
    "## Simulate data"
   ]
  },
  {
   "cell_type": "code",
   "execution_count": 8,
   "metadata": {},
   "outputs": [],
   "source": [
    "import numpy as np\n",
    "import pandas as pd\n",
    "import pydens"
   ]
  },
  {
   "cell_type": "markdown",
   "metadata": {},
   "source": [
    "Define a problem by simulating some data from a bivariate distribution:"
   ]
  },
  {
   "cell_type": "code",
   "execution_count": 14,
   "metadata": {},
   "outputs": [
    {
     "data": {
      "text/html": [
       "<div>\n",
       "<style scoped>\n",
       "    .dataframe tbody tr th:only-of-type {\n",
       "        vertical-align: middle;\n",
       "    }\n",
       "\n",
       "    .dataframe tbody tr th {\n",
       "        vertical-align: top;\n",
       "    }\n",
       "\n",
       "    .dataframe thead th {\n",
       "        text-align: right;\n",
       "    }\n",
       "</style>\n",
       "<table border=\"1\" class=\"dataframe\">\n",
       "  <thead>\n",
       "    <tr style=\"text-align: right;\">\n",
       "      <th></th>\n",
       "      <th>gaussian</th>\n",
       "      <th>triangular</th>\n",
       "    </tr>\n",
       "  </thead>\n",
       "  <tbody>\n",
       "    <tr>\n",
       "      <th>0</th>\n",
       "      <td>0.149</td>\n",
       "      <td>1.086</td>\n",
       "    </tr>\n",
       "    <tr>\n",
       "      <th>1</th>\n",
       "      <td>0.588</td>\n",
       "      <td>0.015</td>\n",
       "    </tr>\n",
       "    <tr>\n",
       "      <th>2</th>\n",
       "      <td>0.284</td>\n",
       "      <td>0.828</td>\n",
       "    </tr>\n",
       "    <tr>\n",
       "      <th>3</th>\n",
       "      <td>0.139</td>\n",
       "      <td>1.381</td>\n",
       "    </tr>\n",
       "    <tr>\n",
       "      <th>4</th>\n",
       "      <td>-0.159</td>\n",
       "      <td>0.067</td>\n",
       "    </tr>\n",
       "  </tbody>\n",
       "</table>\n",
       "</div>"
      ],
      "text/plain": [
       "   gaussian  triangular\n",
       "0     0.149       1.086\n",
       "1     0.588       0.015\n",
       "2     0.284       0.828\n",
       "3     0.139       1.381\n",
       "4    -0.159       0.067"
      ]
     },
     "execution_count": 14,
     "metadata": {},
     "output_type": "execute_result"
    }
   ],
   "source": [
    "np.random.seed(0)\n",
    "sz = pydens.simulators.bivariate.Zena()\n",
    "df = sz.rvs(1000)\n",
    "df.head()\n",
    "# Some example values:"
   ]
  },
  {
   "cell_type": "markdown",
   "metadata": {},
   "source": [
    "## Train the density estimators\n",
    "\n",
    "Use Cade to estimate the density of the data. Cade works by\n",
    "first fitting an initial naive joint density model and subsequently\n",
    "improving the initial density estimates with a classifier that\n",
    "tries to distinguish between the real data versus fake data sampled\n",
    "from the initial density model:"
   ]
  },
  {
   "cell_type": "code",
   "execution_count": 11,
   "metadata": {},
   "outputs": [],
   "source": [
    "# All arguments can be ommitted; displaying defaults here to be explicit:\n",
    "cade = pydens.cade.Cade(\n",
    "    initial_density=pydens.models.JointDensity(),\n",
    "    classifier=pydens.classifiers.lightgbm.Lgbm()\n",
    ")\n",
    "cade.train(df, diagnostics=True)"
   ]
  },
  {
   "cell_type": "markdown",
   "metadata": {},
   "source": [
    "Try fastKDE (pip install fastkde):"
   ]
  },
  {
   "cell_type": "code",
   "execution_count": 12,
   "metadata": {},
   "outputs": [],
   "source": [
    "fkde = pydens.wrappers.FastKDE()\n",
    "fkde.train(df)"
   ]
  },
  {
   "cell_type": "markdown",
   "metadata": {},
   "source": [
    "## Performance evaluation\n",
    "\n",
    "Compare the performance of the estimators on new data from the same simulation:"
   ]
  },
  {
   "cell_type": "code",
   "execution_count": 13,
   "metadata": {},
   "outputs": [
    {
     "name": "stdout",
     "output_type": "stream",
     "text": [
      "                        Cade  FastKDE\n",
      "correlation_with_truth  0.85    0.954\n",
      "mean_likelihood         0.13    0.118\n"
     ]
    }
   ],
   "source": [
    "new_df = sz.rvs(1000)\n",
    "ev = pydens.evaluation.Evaluation(\n",
    "    estimators={type(e).__name__: e.density(new_df) for e in [cade, fkde]},\n",
    "    truth=sz.density(new_df)\n",
    ")\n",
    "pd.set_option('display.precision', 3)\n",
    "print(ev.evaluate())"
   ]
  }
 ],
 "metadata": {
  "kernelspec": {
   "display_name": "venv",
   "language": "python",
   "name": "venv"
  },
  "language_info": {
   "codemirror_mode": {
    "name": "ipython",
    "version": 3
   },
   "file_extension": ".py",
   "mimetype": "text/x-python",
   "name": "python",
   "nbconvert_exporter": "python",
   "pygments_lexer": "ipython3",
   "version": "3.7.2"
  }
 },
 "nbformat": 4,
 "nbformat_minor": 2
}
