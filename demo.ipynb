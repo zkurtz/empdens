{
 "cells": [
  {
   "cell_type": "markdown",
   "metadata": {},
   "source": [
    "# Basic usage and testing\n",
    "\n",
    "The demo compares the performance of CADE and fastKDE on a simulated data set.\n",
    "\n",
    "## Simulate data"
   ]
  },
  {
   "cell_type": "code",
   "execution_count": 1,
   "metadata": {},
   "outputs": [],
   "source": [
    "import numpy as np\n",
    "import pandas as pd\n",
    "import pydens"
   ]
  },
  {
   "cell_type": "markdown",
   "metadata": {},
   "source": [
    "Define a problem by simulating some data from a bivariate distribution:"
   ]
  },
  {
   "cell_type": "code",
   "execution_count": 2,
   "metadata": {},
   "outputs": [
    {
     "data": {
      "text/html": [
       "<div>\n",
       "<style scoped>\n",
       "    .dataframe tbody tr th:only-of-type {\n",
       "        vertical-align: middle;\n",
       "    }\n",
       "\n",
       "    .dataframe tbody tr th {\n",
       "        vertical-align: top;\n",
       "    }\n",
       "\n",
       "    .dataframe thead th {\n",
       "        text-align: right;\n",
       "    }\n",
       "</style>\n",
       "<table border=\"1\" class=\"dataframe\">\n",
       "  <thead>\n",
       "    <tr style=\"text-align: right;\">\n",
       "      <th></th>\n",
       "      <th>gaussian</th>\n",
       "      <th>triangular</th>\n",
       "    </tr>\n",
       "  </thead>\n",
       "  <tbody>\n",
       "    <tr>\n",
       "      <th>0</th>\n",
       "      <td>0.148588</td>\n",
       "      <td>1.085822</td>\n",
       "    </tr>\n",
       "    <tr>\n",
       "      <th>1</th>\n",
       "      <td>0.587739</td>\n",
       "      <td>0.015134</td>\n",
       "    </tr>\n",
       "    <tr>\n",
       "      <th>2</th>\n",
       "      <td>0.283965</td>\n",
       "      <td>0.828005</td>\n",
       "    </tr>\n",
       "    <tr>\n",
       "      <th>3</th>\n",
       "      <td>0.138861</td>\n",
       "      <td>1.381029</td>\n",
       "    </tr>\n",
       "    <tr>\n",
       "      <th>4</th>\n",
       "      <td>-0.159206</td>\n",
       "      <td>0.066705</td>\n",
       "    </tr>\n",
       "  </tbody>\n",
       "</table>\n",
       "</div>"
      ],
      "text/plain": [
       "   gaussian  triangular\n",
       "0  0.148588    1.085822\n",
       "1  0.587739    0.015134\n",
       "2  0.283965    0.828005\n",
       "3  0.138861    1.381029\n",
       "4 -0.159206    0.066705"
      ]
     },
     "execution_count": 2,
     "metadata": {},
     "output_type": "execute_result"
    }
   ],
   "source": [
    "np.random.seed(0)\n",
    "sz = pydens.simulators.bivariate.Zena()\n",
    "df = sz.rvs(1000)\n",
    "df.head()\n",
    "# Some example values:"
   ]
  },
  {
   "cell_type": "markdown",
   "metadata": {},
   "source": [
    "## Train the density estimators\n",
    "\n",
    "Use Cade to estimate the density of the data. Cade works by\n",
    "first fitting an initial naive joint density model and subsequently\n",
    "improving the initial density estimates with a classifier that\n",
    "tries to distinguish between the real data versus fake data sampled\n",
    "from the initial density model:"
   ]
  },
  {
   "cell_type": "code",
   "execution_count": 3,
   "metadata": {},
   "outputs": [],
   "source": [
    "# All arguments can be ommitted; displaying defaults here to be explicit:\n",
    "cade = pydens.cade.Cade(\n",
    "    initial_density=pydens.models.JointDensity(),\n",
    "    classifier=pydens.classifiers.lightgbm.Lgbm()\n",
    ")\n",
    "cade.train(df, diagnostics=True)"
   ]
  },
  {
   "cell_type": "markdown",
   "metadata": {},
   "source": [
    "Try fastKDE (pip install fastkde):"
   ]
  },
  {
   "cell_type": "code",
   "execution_count": 4,
   "metadata": {},
   "outputs": [],
   "source": [
    "fkde = pydens.wrappers.FastKDE()\n",
    "fkde.train(df)"
   ]
  },
  {
   "cell_type": "markdown",
   "metadata": {},
   "source": [
    "## Performance evaluation\n",
    "\n",
    "Compare the performance of the estimators on new data from the same simulation:"
   ]
  },
  {
   "cell_type": "code",
   "execution_count": 5,
   "metadata": {},
   "outputs": [
    {
     "name": "stdout",
     "output_type": "stream",
     "text": [
      "                         Cade  FastKDE\n",
      "correlation_with_truth  0.837    0.957\n",
      "mean_likelihood         0.124    0.117\n"
     ]
    }
   ],
   "source": [
    "new_df = sz.rvs(1000)\n",
    "ev = pydens.evaluation.Evaluation(\n",
    "    estimators={type(e).__name__: e.density(new_df) for e in [cade, fkde]},\n",
    "    truth=sz.density(new_df)\n",
    ")\n",
    "pd.set_option('display.precision', 3)\n",
    "print(ev.evaluate())"
   ]
  }
 ],
 "metadata": {
  "kernelspec": {
   "display_name": "Python 3",
   "language": "python",
   "name": "python3"
  },
  "language_info": {
   "codemirror_mode": {
    "name": "ipython",
    "version": 3
   },
   "file_extension": ".py",
   "mimetype": "text/x-python",
   "name": "python",
   "nbconvert_exporter": "python",
   "pygments_lexer": "ipython3",
   "version": "3.7.3"
  }
 },
 "nbformat": 4,
 "nbformat_minor": 2
}
